{
 "cells": [
  {
   "cell_type": "code",
   "execution_count": 1,
   "id": "065430df",
   "metadata": {},
   "outputs": [],
   "source": [
    "#import the required libraries\n",
    "import pandas as pd\n",
    "import numpy as np\n",
    "import matplotlib.pyplot as plt\n",
    "import seaborn as sns"
   ]
  },
  {
   "cell_type": "code",
   "execution_count": 3,
   "id": "df1d1961",
   "metadata": {},
   "outputs": [],
   "source": [
    "#load the datasets\n",
    "data1=pd.read_csv(r\"C:\\Users\\user\\Downloads\\Day04_Assignment_Datasets\\Day04_Assignment_Datasets\\Q1_a.csv\")\n",
    "data2=pd.read_csv(r\"C:\\Users\\user\\Downloads\\Day04_Assignment_Datasets\\Day04_Assignment_Datasets\\Q2_b.csv\")"
   ]
  },
  {
   "cell_type": "code",
   "execution_count": 5,
   "id": "22aa052c",
   "metadata": {},
   "outputs": [
    {
     "data": {
      "text/html": [
       "<div>\n",
       "<style scoped>\n",
       "    .dataframe tbody tr th:only-of-type {\n",
       "        vertical-align: middle;\n",
       "    }\n",
       "\n",
       "    .dataframe tbody tr th {\n",
       "        vertical-align: top;\n",
       "    }\n",
       "\n",
       "    .dataframe thead th {\n",
       "        text-align: right;\n",
       "    }\n",
       "</style>\n",
       "<table border=\"1\" class=\"dataframe\">\n",
       "  <thead>\n",
       "    <tr style=\"text-align: right;\">\n",
       "      <th></th>\n",
       "      <th>Index</th>\n",
       "      <th>speed</th>\n",
       "      <th>dist</th>\n",
       "    </tr>\n",
       "  </thead>\n",
       "  <tbody>\n",
       "    <tr>\n",
       "      <th>0</th>\n",
       "      <td>1</td>\n",
       "      <td>4</td>\n",
       "      <td>2</td>\n",
       "    </tr>\n",
       "    <tr>\n",
       "      <th>1</th>\n",
       "      <td>2</td>\n",
       "      <td>4</td>\n",
       "      <td>10</td>\n",
       "    </tr>\n",
       "    <tr>\n",
       "      <th>2</th>\n",
       "      <td>3</td>\n",
       "      <td>7</td>\n",
       "      <td>4</td>\n",
       "    </tr>\n",
       "    <tr>\n",
       "      <th>3</th>\n",
       "      <td>4</td>\n",
       "      <td>7</td>\n",
       "      <td>22</td>\n",
       "    </tr>\n",
       "    <tr>\n",
       "      <th>4</th>\n",
       "      <td>5</td>\n",
       "      <td>8</td>\n",
       "      <td>16</td>\n",
       "    </tr>\n",
       "  </tbody>\n",
       "</table>\n",
       "</div>"
      ],
      "text/plain": [
       "   Index  speed  dist\n",
       "0      1      4     2\n",
       "1      2      4    10\n",
       "2      3      7     4\n",
       "3      4      7    22\n",
       "4      5      8    16"
      ]
     },
     "execution_count": 5,
     "metadata": {},
     "output_type": "execute_result"
    }
   ],
   "source": [
    "data1.head()"
   ]
  },
  {
   "cell_type": "markdown",
   "id": "71dffa09",
   "metadata": {},
   "source": [
    "### Q1) Calculate Skewness, Kurtosis using R/Python code & draw inferences on the following data. Refer to the Datasets attachment for data file."
   ]
  },
  {
   "cell_type": "code",
   "execution_count": 6,
   "id": "e99d2a63",
   "metadata": {},
   "outputs": [
    {
     "data": {
      "text/plain": [
       "Index    0.000000\n",
       "speed   -0.117510\n",
       "dist     0.806895\n",
       "dtype: float64"
      ]
     },
     "execution_count": 6,
     "metadata": {},
     "output_type": "execute_result"
    }
   ],
   "source": [
    "data1.skew()"
   ]
  },
  {
   "cell_type": "code",
   "execution_count": 7,
   "id": "37924ad8",
   "metadata": {},
   "outputs": [
    {
     "data": {
      "text/plain": [
       "Index    212.500000\n",
       "speed     27.959184\n",
       "dist     664.060816\n",
       "dtype: float64"
      ]
     },
     "execution_count": 7,
     "metadata": {},
     "output_type": "execute_result"
    }
   ],
   "source": [
    "data1.var()"
   ]
  },
  {
   "cell_type": "code",
   "execution_count": 8,
   "id": "65a1d6c7",
   "metadata": {},
   "outputs": [
    {
     "data": {
      "text/html": [
       "<div>\n",
       "<style scoped>\n",
       "    .dataframe tbody tr th:only-of-type {\n",
       "        vertical-align: middle;\n",
       "    }\n",
       "\n",
       "    .dataframe tbody tr th {\n",
       "        vertical-align: top;\n",
       "    }\n",
       "\n",
       "    .dataframe thead th {\n",
       "        text-align: right;\n",
       "    }\n",
       "</style>\n",
       "<table border=\"1\" class=\"dataframe\">\n",
       "  <thead>\n",
       "    <tr style=\"text-align: right;\">\n",
       "      <th></th>\n",
       "      <th>Index</th>\n",
       "      <th>speed</th>\n",
       "      <th>dist</th>\n",
       "    </tr>\n",
       "  </thead>\n",
       "  <tbody>\n",
       "    <tr>\n",
       "      <th>count</th>\n",
       "      <td>50.00000</td>\n",
       "      <td>50.000000</td>\n",
       "      <td>50.000000</td>\n",
       "    </tr>\n",
       "    <tr>\n",
       "      <th>mean</th>\n",
       "      <td>25.50000</td>\n",
       "      <td>15.400000</td>\n",
       "      <td>42.980000</td>\n",
       "    </tr>\n",
       "    <tr>\n",
       "      <th>std</th>\n",
       "      <td>14.57738</td>\n",
       "      <td>5.287644</td>\n",
       "      <td>25.769377</td>\n",
       "    </tr>\n",
       "    <tr>\n",
       "      <th>min</th>\n",
       "      <td>1.00000</td>\n",
       "      <td>4.000000</td>\n",
       "      <td>2.000000</td>\n",
       "    </tr>\n",
       "    <tr>\n",
       "      <th>25%</th>\n",
       "      <td>13.25000</td>\n",
       "      <td>12.000000</td>\n",
       "      <td>26.000000</td>\n",
       "    </tr>\n",
       "    <tr>\n",
       "      <th>50%</th>\n",
       "      <td>25.50000</td>\n",
       "      <td>15.000000</td>\n",
       "      <td>36.000000</td>\n",
       "    </tr>\n",
       "    <tr>\n",
       "      <th>75%</th>\n",
       "      <td>37.75000</td>\n",
       "      <td>19.000000</td>\n",
       "      <td>56.000000</td>\n",
       "    </tr>\n",
       "    <tr>\n",
       "      <th>max</th>\n",
       "      <td>50.00000</td>\n",
       "      <td>25.000000</td>\n",
       "      <td>120.000000</td>\n",
       "    </tr>\n",
       "  </tbody>\n",
       "</table>\n",
       "</div>"
      ],
      "text/plain": [
       "          Index      speed        dist\n",
       "count  50.00000  50.000000   50.000000\n",
       "mean   25.50000  15.400000   42.980000\n",
       "std    14.57738   5.287644   25.769377\n",
       "min     1.00000   4.000000    2.000000\n",
       "25%    13.25000  12.000000   26.000000\n",
       "50%    25.50000  15.000000   36.000000\n",
       "75%    37.75000  19.000000   56.000000\n",
       "max    50.00000  25.000000  120.000000"
      ]
     },
     "execution_count": 8,
     "metadata": {},
     "output_type": "execute_result"
    }
   ],
   "source": [
    "# For drawing insights we use the describe function\n",
    "data1.describe()"
   ]
  },
  {
   "cell_type": "code",
   "execution_count": 11,
   "id": "6947a95b",
   "metadata": {},
   "outputs": [
    {
     "data": {
      "text/plain": [
       "(array([2., 3., 4., 6., 8., 5., 7., 8., 1., 6.]),\n",
       " array([ 4. ,  6.1,  8.2, 10.3, 12.4, 14.5, 16.6, 18.7, 20.8, 22.9, 25. ]),\n",
       " <BarContainer object of 10 artists>)"
      ]
     },
     "execution_count": 11,
     "metadata": {},
     "output_type": "execute_result"
    },
    {
     "data": {
      "image/png": "[encoded data removed]",
      "text/plain": [
       "<Figure size 432x288 with 1 Axes>"
      ]
     },
     "metadata": {
      "needs_background": "light"
     },
     "output_type": "display_data"
    }
   ],
   "source": [
    "# mean and median for dist variable is not same so there might be outlier\n",
    "#plot hist for both columns\n",
    "plt.hist(data1.speed)\n"
   ]
  },
  {
   "cell_type": "markdown",
   "id": "67424aff",
   "metadata": {},
   "source": [
    "### inference drawn from the above graph is that the speed column is bell shaped  bimodal and median value is nearly 15  same as mean and most of data lies between 10 - 20 with a range of nearly 23 and distribution is olatykurtic with wide peak"
   ]
  },
  {
   "cell_type": "code",
   "execution_count": 12,
   "id": "4ee92c8d",
   "metadata": {},
   "outputs": [
    {
     "data": {
      "text/plain": [
       "(array([ 4.,  8., 14.,  6.,  7.,  4.,  3.,  3.,  0.,  1.]),\n",
       " array([  2. ,  13.8,  25.6,  37.4,  49.2,  61. ,  72.8,  84.6,  96.4,\n",
       "        108.2, 120. ]),\n",
       " <BarContainer object of 10 artists>)"
      ]
     },
     "execution_count": 12,
     "metadata": {},
     "output_type": "execute_result"
    },
    {
     "data": {
      "image/png": "[encoded data removed]",
      "text/plain": [
       "<Figure size 432x288 with 1 Axes>"
      ]
     },
     "metadata": {
      "needs_background": "light"
     },
     "output_type": "display_data"
    }
   ],
   "source": [
    "plt.hist(data1.dist)"
   ]
  },
  {
   "cell_type": "markdown",
   "id": "84ca80ed",
   "metadata": {},
   "source": [
    "### Inference drawn from this graph is that the dist column is right skewd and unimodal and median is around 35 and most of the data lies between 25 - 60 and outliers are present in higher end and distribution is platykurtic"
   ]
  },
  {
   "cell_type": "markdown",
   "id": "7b1cba9a",
   "metadata": {},
   "source": [
    "### Q2) Draw inferences about the following boxplot & histogram. "
   ]
  },
  {
   "cell_type": "code",
   "execution_count": 13,
   "id": "7967f696",
   "metadata": {},
   "outputs": [
    {
     "data": {
      "text/html": [
       "<div>\n",
       "<style scoped>\n",
       "    .dataframe tbody tr th:only-of-type {\n",
       "        vertical-align: middle;\n",
       "    }\n",
       "\n",
       "    .dataframe tbody tr th {\n",
       "        vertical-align: top;\n",
       "    }\n",
       "\n",
       "    .dataframe thead th {\n",
       "        text-align: right;\n",
       "    }\n",
       "</style>\n",
       "<table border=\"1\" class=\"dataframe\">\n",
       "  <thead>\n",
       "    <tr style=\"text-align: right;\">\n",
       "      <th></th>\n",
       "      <th>Unnamed: 0</th>\n",
       "      <th>SP</th>\n",
       "      <th>WT</th>\n",
       "    </tr>\n",
       "  </thead>\n",
       "  <tbody>\n",
       "    <tr>\n",
       "      <th>0</th>\n",
       "      <td>1</td>\n",
       "      <td>104.185353</td>\n",
       "      <td>28.762059</td>\n",
       "    </tr>\n",
       "    <tr>\n",
       "      <th>1</th>\n",
       "      <td>2</td>\n",
       "      <td>105.461264</td>\n",
       "      <td>30.466833</td>\n",
       "    </tr>\n",
       "    <tr>\n",
       "      <th>2</th>\n",
       "      <td>3</td>\n",
       "      <td>105.461264</td>\n",
       "      <td>30.193597</td>\n",
       "    </tr>\n",
       "    <tr>\n",
       "      <th>3</th>\n",
       "      <td>4</td>\n",
       "      <td>113.461264</td>\n",
       "      <td>30.632114</td>\n",
       "    </tr>\n",
       "    <tr>\n",
       "      <th>4</th>\n",
       "      <td>5</td>\n",
       "      <td>104.461264</td>\n",
       "      <td>29.889149</td>\n",
       "    </tr>\n",
       "  </tbody>\n",
       "</table>\n",
       "</div>"
      ],
      "text/plain": [
       "   Unnamed: 0          SP         WT\n",
       "0           1  104.185353  28.762059\n",
       "1           2  105.461264  30.466833\n",
       "2           3  105.461264  30.193597\n",
       "3           4  113.461264  30.632114\n",
       "4           5  104.461264  29.889149"
      ]
     },
     "execution_count": 13,
     "metadata": {},
     "output_type": "execute_result"
    }
   ],
   "source": [
    "data2.head()"
   ]
  },
  {
   "cell_type": "markdown",
   "id": "8c667042",
   "metadata": {},
   "source": [
    "### INFERENCE ABOUT HISTOGRAM AND BOXPLOT IN THE DIAGRAM GIVEN IN QUESTION : THE HISTOGRAM IS RIGHT SKEWD UNIMODAL CENTRE AT 100 NEARLY WHERE MOST OF THE DATA LIES BETWEEN 50-200 AND OUTLIERS MAY BE PRESENT IN UPPER END WITH A RANGE OF ROUGHLY400"
   ]
  },
  {
   "cell_type": "markdown",
   "id": "b9e8d690",
   "metadata": {},
   "source": [
    "### INFERENCE ABOUT THE BOXPLOT:THE BOXPLOT SAYS THAT THERE IS OUTLIER IN  THE  UPPER END AND IS RIGHT SKEWED DISTRIBUTION WITH MEAN BEING HIGHER THAN MEDIAN"
   ]
  },
  {
   "cell_type": "markdown",
   "id": "f0a83511",
   "metadata": {},
   "source": [
    "### Q3) Below are the scores obtained by a student in tests \n",
    "34,36,36,38,38,39,39,40,40,41,41,41,41,42,42,45,49,56\n",
    "1)\tFind mean, median, variance, standard deviation.\n",
    "2)\tWhat can we say about the student marks? [Hint: Looking at the various measures calculated above whether the data is normal/skewed or if outliers are present].  \n",
    "\n"
   ]
  },
  {
   "cell_type": "code",
   "execution_count": 23,
   "id": "8bd3fac1",
   "metadata": {},
   "outputs": [],
   "source": [
    "score_student=pd.Series([34,36,36,38,38,39,39,40,40,41,41,41,41,42,42,45,49,56])"
   ]
  },
  {
   "cell_type": "code",
   "execution_count": 24,
   "id": "ef272b57",
   "metadata": {},
   "outputs": [
    {
     "data": {
      "text/plain": [
       "41.0"
      ]
     },
     "execution_count": 24,
     "metadata": {},
     "output_type": "execute_result"
    }
   ],
   "source": [
    "score_student.mean()"
   ]
  },
  {
   "cell_type": "code",
   "execution_count": 25,
   "id": "0dbdee71",
   "metadata": {},
   "outputs": [
    {
     "data": {
      "text/plain": [
       "40.5"
      ]
     },
     "execution_count": 25,
     "metadata": {},
     "output_type": "execute_result"
    }
   ],
   "source": [
    "score_student.median()"
   ]
  },
  {
   "cell_type": "code",
   "execution_count": 26,
   "id": "24b08ed5",
   "metadata": {},
   "outputs": [
    {
     "data": {
      "text/plain": [
       "25.529411764705884"
      ]
     },
     "execution_count": 26,
     "metadata": {},
     "output_type": "execute_result"
    }
   ],
   "source": [
    "score_student.var()"
   ]
  },
  {
   "cell_type": "code",
   "execution_count": 27,
   "id": "6fae6631",
   "metadata": {},
   "outputs": [
    {
     "data": {
      "text/plain": [
       "5.05266382858645"
      ]
     },
     "execution_count": 27,
     "metadata": {},
     "output_type": "execute_result"
    }
   ],
   "source": [
    "score_student.std()"
   ]
  },
  {
   "cell_type": "code",
   "execution_count": 28,
   "id": "f130d550",
   "metadata": {},
   "outputs": [
    {
     "data": {
      "text/plain": [
       "0    41\n",
       "dtype: int64"
      ]
     },
     "execution_count": 28,
     "metadata": {},
     "output_type": "execute_result"
    }
   ],
   "source": [
    "score_student.mode()   "
   ]
  },
  {
   "cell_type": "code",
   "execution_count": null,
   "id": "088464ae",
   "metadata": {},
   "outputs": [],
   "source": []
  },
  {
   "cell_type": "markdown",
   "id": "8f6d5ae7",
   "metadata": {},
   "source": [
    "### by looking at the data we can conclude that the data is not normal , because mean median and mode are not equal "
   ]
  },
  {
   "cell_type": "markdown",
   "id": "fd1ecb74",
   "metadata": {},
   "source": [
    "### Q5) What is the nature of skewness when mean, median of data is equal?"
   ]
  },
  {
   "cell_type": "markdown",
   "id": "18e64c11",
   "metadata": {},
   "source": [
    "### ans : no skewness "
   ]
  },
  {
   "cell_type": "markdown",
   "id": "b14a78fa",
   "metadata": {},
   "source": [
    "### Q6) What is the nature of skewness when mean > median?"
   ]
  },
  {
   "cell_type": "markdown",
   "id": "48aef5b7",
   "metadata": {},
   "source": [
    "### ans: right skewed"
   ]
  },
  {
   "cell_type": "markdown",
   "id": "77192758",
   "metadata": {},
   "source": [
    "### Q7) What is the nature of skewness when median > mean?"
   ]
  },
  {
   "cell_type": "markdown",
   "id": "84e45944",
   "metadata": {},
   "source": [
    "### ans: left skewed"
   ]
  },
  {
   "cell_type": "markdown",
   "id": "7c593715",
   "metadata": {},
   "source": [
    "### Q8) What does positive kurtosis value indicates for a data?"
   ]
  },
  {
   "cell_type": "markdown",
   "id": "1110ce3e",
   "metadata": {},
   "source": [
    "### ans: data is following leptokurtic distribution with thick tails"
   ]
  },
  {
   "cell_type": "markdown",
   "id": "0fb6fe92",
   "metadata": {},
   "source": [
    "### Q9) What does negative kurtosis value indicates for a data?"
   ]
  },
  {
   "cell_type": "markdown",
   "id": "6bc1ae9a",
   "metadata": {},
   "source": [
    "### ans: platykurtic distribution "
   ]
  },
  {
   "cell_type": "markdown",
   "id": "55d444f0",
   "metadata": {},
   "source": [
    "### What can we say about the distribution of the data?\n",
    "What is nature of skewness of the data?\n",
    "What will be the IQR of the data (approximately)? \n"
   ]
  },
  {
   "cell_type": "markdown",
   "id": "1f92443f",
   "metadata": {},
   "source": [
    "### ans: The distribution of data is not normal.\n",
    "           The nature of skewness is left skewd\n",
    "           the iqr will be roughly 8"
   ]
  },
  {
   "cell_type": "markdown",
   "id": "eaf8e16f",
   "metadata": {},
   "source": [
    "### Q11) Comment on the below Boxplot visualizations? \n",
    " \n",
    "Draw an Inference from the distribution of data for Boxplot 1 with respect Boxplot 2.\n",
    "Hint: [On comparing both the plots, and check if the data is normally distributed/not, outliers present, skewness etc.]\n",
    "\n"
   ]
  },
  {
   "cell_type": "markdown",
   "id": "dc26b15c",
   "metadata": {},
   "source": [
    "### Ans: Both the boxplots are normal but boxplot1 have lesser range then boxplot2 and outliers are present"
   ]
  },
  {
   "cell_type": "markdown",
   "id": "c4022a75",
   "metadata": {},
   "source": [
    "### Q12) \n",
    " \n",
    "Answer the following three questions based on the boxplot above.\n",
    "(i)\tWhat is inter-quartile range of this dataset?  [Hint: IQR = Q3 – Q1]\n",
    "In one line, explain what this value implies. (Hint: Based on IQR definition)\n",
    "(ii)\tWhat can we say about the skewness of this dataset?\n",
    "(iii)\tIf it were found that the data point with the value 25 is 2.5, how would the new boxplot be affected? \n",
    "(Hint: On changing the data point f"
   ]
  },
  {
   "cell_type": "markdown",
   "id": "57748e5e",
   "metadata": {},
   "source": [
    "### ans: (i) THE IQR IS NEARLY 7 . (IT IMPLIES MOST OF THE VALUES LIE IN THIS RANGE)\n",
    "          (ii) THE DATA IS RIGHT SKEWED\n",
    "          (iii) THERE WOULD BE NO OUTLIERS AND SKEWNESS MIGHT BE REMOVED"
   ]
  },
  {
   "cell_type": "markdown",
   "id": "91d59d9f",
   "metadata": {},
   "source": [
    "### Q13) \n",
    " \n",
    "\n",
    "Answer the following three questions based on the histogram above.\n",
    "(i)\tWhere would the mode of this dataset lie? Hint: [In terms of values On Y-axis]\n",
    "(ii)\tComment on the skewness of the dataset\n",
    "(iii)\tSuppose that the above histogram and the boxplot in question 2 are plotted for the same dataset. Explain how these graphs complement each other in providing information about any dataset. Hint: [Visualizing both the plots, draw the insights]\n",
    "\n"
   ]
  },
  {
   "cell_type": "markdown",
   "id": "c3231ec6",
   "metadata": {},
   "source": [
    "### ANS:(i) mode will be around 5 to 7\n",
    "           (ii) the data is right skewed\n",
    "            (iii) visualising both plots will help us in identifying the outliers "
   ]
  },
  {
   "cell_type": "code",
   "execution_count": null,
   "id": "54bfa045",
   "metadata": {},
   "outputs": [],
   "source": []
  }
 ],
 "metadata": {
  "kernelspec": {
   "display_name": "Python 3 (ipykernel)",
   "language": "python",
   "name": "python3"
  },
  "language_info": {
   "codemirror_mode": {
    "name": "ipython",
    "version": 3
   },
   "file_extension": ".py",
   "mimetype": "text/x-python",
   "name": "python",
   "nbconvert_exporter": "python",
   "pygments_lexer": "ipython3",
   "version": "3.9.7"
  }
 },
 "nbformat": 4,
 "nbformat_minor": 5
}
